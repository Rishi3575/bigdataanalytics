{
  "nbformat": 4,
  "nbformat_minor": 0,
  "metadata": {
    "colab": {
      "provenance": []
    },
    "kernelspec": {
      "name": "python3",
      "display_name": "Python 3"
    },
    "language_info": {
      "name": "python"
    }
  },
  "cells": [
    {
      "cell_type": "code",
      "execution_count": 36,
      "metadata": {
        "colab": {
          "base_uri": "https://localhost:8080/"
        },
        "id": "7Fpmv3AjVqHo",
        "outputId": "e19f9de2-4490-437e-e20f-23c8ccd6a004"
      },
      "outputs": [
        {
          "output_type": "stream",
          "name": "stdout",
          "text": [
            "Enter a string: python\n",
            "ohty\n"
          ]
        }
      ],
      "source": [
        "chars = list(input(\"Enter a string: \"))\n",
        "del chars[0]\n",
        "del chars[-1]\n",
        "chars.reverse()\n",
        "print(\"\".join(chars))"
      ]
    },
    {
      "cell_type": "code",
      "source": [
        "a = float(input(\"Enter first number: \"))\n",
        "b = float(input(\"Enter second number: \"))\n",
        "\n",
        "print(f\"Addition: {a + b}\")\n",
        "print(f\"Subtraction: {a - b}\")\n",
        "print(f\"Multiplication: {a * b}\")\n",
        "print(f\"Division: {a / b}\" if b != 0 else \"Division: undefined (divide by zero)\")"
      ],
      "metadata": {
        "colab": {
          "base_uri": "https://localhost:8080/"
        },
        "id": "Ichk6DbUX1aM",
        "outputId": "aa8e489c-f527-414f-9c98-e43d5c4d66ce"
      },
      "execution_count": null,
      "outputs": [
        {
          "output_type": "stream",
          "name": "stdout",
          "text": [
            "Enter first number: 5\n",
            "Enter second number: 8\n",
            "Addition: 13.0\n",
            "Subtraction: -3.0\n",
            "Multiplication: 40.0\n",
            "Division: 0.625\n"
          ]
        }
      ]
    },
    {
      "cell_type": "code",
      "source": [
        "sentence = input(\"Enter a sentence: \")\n",
        "new_sentence = sentence.replace(\"python\", \"pythons\")\n",
        "print(new_sentence)"
      ],
      "metadata": {
        "colab": {
          "base_uri": "https://localhost:8080/"
        },
        "id": "DxwaTXliYDAA",
        "outputId": "25c3f7d2-6469-464a-b4d0-c39f7f29d7ea"
      },
      "execution_count": null,
      "outputs": [
        {
          "output_type": "stream",
          "name": "stdout",
          "text": [
            "Enter a sentence: i like python\n",
            "i like pythons\n"
          ]
        }
      ]
    },
    {
      "cell_type": "code",
      "source": [
        "score = float(input(\"Enter class score (0–100): \"))\n",
        "\n",
        "if 90 <= score <= 100:\n",
        "    grade = 'A'\n",
        "elif 80 <= score < 90:\n",
        "    grade = 'B'\n",
        "elif 70 <= score < 80:\n",
        "    grade = 'C'\n",
        "elif 60 <= score < 70:\n",
        "    grade = 'D'\n",
        "elif 0 <= score < 60:\n",
        "    grade = 'F'\n",
        "else:\n",
        "    grade = 'Invalid score'\n",
        "\n",
        "print(f\"Grade: {grade}\")"
      ],
      "metadata": {
        "colab": {
          "base_uri": "https://localhost:8080/"
        },
        "id": "agVVnU4SYZja",
        "outputId": "6c2efd9b-99f5-4300-9239-b6b905daf550"
      },
      "execution_count": null,
      "outputs": [
        {
          "output_type": "stream",
          "name": "stdout",
          "text": [
            "Enter class score (0–100): 90\n",
            "Grade: A\n"
          ]
        }
      ]
    },
    {
      "cell_type": "code",
      "source": [
        "x = [23, 'Python', 23.98]\n",
        "types_list = [type(item) for item in x]\n",
        "print(x)\n",
        "print(types_list)"
      ],
      "metadata": {
        "colab": {
          "base_uri": "https://localhost:8080/"
        },
        "id": "rILcnneWYmtk",
        "outputId": "34ae727e-e727-4776-d7dc-536a9cdbccb3"
      },
      "execution_count": null,
      "outputs": [
        {
          "output_type": "stream",
          "name": "stdout",
          "text": [
            "[23, 'Python', 23.98]\n",
            "[<class 'int'>, <class 'str'>, <class 'float'>]\n"
          ]
        }
      ]
    },
    {
      "cell_type": "code",
      "source": [
        "IT_companies = {'Facebook', 'Google', 'Microsoft', 'Apple', 'IBM', 'Oracle', 'Amazon'}\n",
        "A = {19, 22, 24, 20, 25, 26}\n",
        "B = {19, 22, 20, 25, 26, 24, 28, 27}\n",
        "age = [22, 19, 24, 25, 26, 24, 25, 24]\n",
        "\n",
        "print(\"Length of IT_companies:\", len(IT_companies))\n",
        "\n",
        "IT_companies.add('Twitter')\n",
        "print(\"After add:\", IT_companies)"
      ],
      "metadata": {
        "colab": {
          "base_uri": "https://localhost:8080/"
        },
        "id": "T5GMHwGhY0Ia",
        "outputId": "7ea3d27f-8d17-4267-d02a-0168b221d910"
      },
      "execution_count": null,
      "outputs": [
        {
          "output_type": "stream",
          "name": "stdout",
          "text": [
            "Length of IT_companies: 7\n",
            "After add: {'Twitter', 'Amazon', 'Facebook', 'Oracle', 'Apple', 'Microsoft', 'Google', 'IBM'}\n"
          ]
        }
      ]
    },
    {
      "cell_type": "code",
      "source": [
        "IT_companies.update(['Intel', 'Salesforce', 'Cisco'])\n",
        "print(\"After update:\", IT_companies)\n"
      ],
      "metadata": {
        "colab": {
          "base_uri": "https://localhost:8080/"
        },
        "id": "esC_qDq_Y-qn",
        "outputId": "1bc23a1a-2fab-4eff-e974-c12b05a7eaac"
      },
      "execution_count": null,
      "outputs": [
        {
          "output_type": "stream",
          "name": "stdout",
          "text": [
            "After update: {'Intel', 'Facebook', 'Amazon', 'Oracle', 'Apple', 'IBM', 'Twitter', 'Salesforce', 'Cisco', 'Microsoft', 'Google'}\n"
          ]
        }
      ]
    },
    {
      "cell_type": "code",
      "source": [
        "IT_companies.remove('Facebook')\n",
        "print(\"After removal:\", IT_companies)\n"
      ],
      "metadata": {
        "colab": {
          "base_uri": "https://localhost:8080/"
        },
        "id": "clSs-cOvbM1r",
        "outputId": "6cbe036e-c092-4142-be0f-04a92b5ce84b"
      },
      "execution_count": null,
      "outputs": [
        {
          "output_type": "stream",
          "name": "stdout",
          "text": [
            "After removal: {'Intel', 'Amazon', 'Oracle', 'Apple', 'Twitter', 'Salesforce', 'Cisco', 'Microsoft', 'Google'}\n"
          ]
        }
      ]
    },
    {
      "cell_type": "code",
      "source": [
        "print(\"A ∪ B:\", A.union(B))\n",
        "print(\"A ∩ B:\", A.intersection(B))\n",
        "print(\"Is A subset of B?\", A.issubset(B))\n",
        "print(\"Are A and B disjoint?\", A.isdisjoint(B))\n",
        "print(\"A ∪ B and B ∪ A are equal?\", A.union(B) == B.union(A))\n",
        "print(\"Symmetric difference:\", A.symmetric_difference(B))\n"
      ],
      "metadata": {
        "colab": {
          "base_uri": "https://localhost:8080/"
        },
        "id": "wfCqJsMQbZlT",
        "outputId": "27c33aa4-54f5-4c12-de15-9f9fe899e369"
      },
      "execution_count": null,
      "outputs": [
        {
          "output_type": "stream",
          "name": "stdout",
          "text": [
            "A ∪ B: {19, 20, 22, 24, 25, 26, 27, 28}\n",
            "A ∩ B: {19, 20, 22, 24, 25, 26}\n",
            "Is A subset of B? True\n",
            "Are A and B disjoint? False\n",
            "A ∪ B and B ∪ A are equal? True\n",
            "Symmetric difference: {27, 28}\n"
          ]
        }
      ]
    },
    {
      "cell_type": "code",
      "source": [
        "del A, B"
      ],
      "metadata": {
        "id": "sQ7hnwCtbfLW"
      },
      "execution_count": null,
      "outputs": []
    },
    {
      "cell_type": "code",
      "source": [
        "age_set = set(age)\n",
        "print(\"Age list length:\", len(age))\n",
        "print(\"Age set length:\", len(age_set))\n",
        "print(\"Duplicates removed? Yes\" if len(age_set) < len(age) else \"No duplicates\")\n"
      ],
      "metadata": {
        "colab": {
          "base_uri": "https://localhost:8080/"
        },
        "id": "KhgSlujWbkAd",
        "outputId": "5da8b8fc-ae1a-4073-e723-d50ce7901bce"
      },
      "execution_count": null,
      "outputs": [
        {
          "output_type": "stream",
          "name": "stdout",
          "text": [
            "Age list length: 8\n",
            "Age set length: 5\n",
            "Duplicates removed? Yes\n"
          ]
        }
      ]
    }
  ]
}
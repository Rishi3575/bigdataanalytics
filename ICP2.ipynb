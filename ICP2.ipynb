{
  "nbformat": 4,
  "nbformat_minor": 0,
  "metadata": {
    "colab": {
      "provenance": []
    },
    "kernelspec": {
      "name": "python3",
      "display_name": "Python 3"
    },
    "language_info": {
      "name": "python"
    }
  },
  "cells": [
    {
      "cell_type": "code",
      "source": [
        "QUESTION-1"
      ],
      "metadata": {
        "id": "t8PTXUy86jqR"
      },
      "execution_count": null,
      "outputs": []
    },
    {
      "cell_type": "code",
      "source": [
        "class Counter:\n",
        "    count = 0\n",
        "\n",
        "    def __init__(self):\n",
        "        self._count = 0\n",
        "\n",
        "    def increment(self):\n",
        "        self._count += 1\n",
        "        Counter.count += 1\n",
        "\n",
        "    def get_counts(self):\n",
        "        return f\"Instance count: {self._count}, Class count: {Counter.count}\"\n",
        "\n",
        "\n",
        "\n",
        "a = Counter()\n",
        "b = Counter()\n",
        "\n",
        "a.increment()\n",
        "a.increment()\n",
        "b.increment()\n",
        "\n",
        "print(a.get_counts())\n",
        "print(b.get_counts())\n"
      ],
      "metadata": {
        "colab": {
          "base_uri": "https://localhost:8080/"
        },
        "id": "ZWBmZQYW6Z4g",
        "outputId": "f477fbb0-4d17-4cbf-94e3-34da981a2df1"
      },
      "execution_count": null,
      "outputs": [
        {
          "output_type": "stream",
          "name": "stdout",
          "text": [
            "Instance count: 2, Class count: 3\n",
            "Instance count: 1, Class count: 3\n"
          ]
        }
      ]
    },
    {
      "cell_type": "code",
      "source": [
        "QUESTION-2\n",
        "def sum_all(args):\n",
        "  return sum(args)\n",
        "  print(\"sum of 1,2,3 is:\", sum_all(1,2,3))\n",
        "  print(\"sum of 4,5,6,7 is:\", sum_all(4,5,6,7))"
      ],
      "metadata": {
        "id": "F5T7jP166s1R"
      },
      "execution_count": null,
      "outputs": []
    },
    {
      "cell_type": "code",
      "source": [
        "def sum_all(*args):\n",
        "    return sum(args)\n",
        "\n",
        "print(\"Sum of 1, 2, 3 is:\", sum_all(1, 2, 3))\n",
        "print(\"Sum of 4, 5, 6, 7 is:\", sum_all(4, 5, 6, 7))\n"
      ],
      "metadata": {
        "colab": {
          "base_uri": "https://localhost:8080/"
        },
        "id": "EOJV5uoE6xPi",
        "outputId": "fa59a5c8-e995-4a0a-b1b9-f426df06bf57"
      },
      "execution_count": null,
      "outputs": [
        {
          "output_type": "stream",
          "name": "stdout",
          "text": [
            "Sum of 1, 2, 3 is: 6\n",
            "Sum of 4, 5, 6, 7 is: 22\n"
          ]
        }
      ]
    },
    {
      "cell_type": "code",
      "source": [
        "QUESTION-3"
      ],
      "metadata": {
        "id": "_Zo29T1D62Zv"
      },
      "execution_count": null,
      "outputs": []
    },
    {
      "cell_type": "code",
      "source": [
        "def first_word(students):\n",
        "    sorted_list = sorted(students)\n",
        "    first = sorted_list[0]\n",
        "    return first\n",
        "\n",
        "students = ['Mary', 'Zelda', 'Jimmy', 'Jack', 'Bartholomew', 'Gertrude']\n",
        "print(first_word(students))"
      ],
      "metadata": {
        "colab": {
          "base_uri": "https://localhost:8080/"
        },
        "id": "8Is4NN-8718Y",
        "outputId": "33e98f75-4e67-4ade-997d-0243ac84cd3b"
      },
      "execution_count": null,
      "outputs": [
        {
          "output_type": "stream",
          "name": "stdout",
          "text": [
            "Bartholomew\n"
          ]
        }
      ]
    },
    {
      "cell_type": "code",
      "source": [
        "QUESTION-4\n"
      ],
      "metadata": {
        "id": "Ln-EeUgr7-DZ"
      },
      "execution_count": null,
      "outputs": []
    },
    {
      "cell_type": "code",
      "source": [
        "class Employee:\n",
        "    no_of_employees = 0\n",
        "    total_salary = 0\n",
        "\n",
        "    def __init__(self, name, family, salary, department):\n",
        "        self.name = name\n",
        "        self.family = family\n",
        "        self.salary = salary\n",
        "        self.department = department\n",
        "\n",
        "        Employee.no_of_employees += 1\n",
        "        Employee.total_salary += salary\n",
        "\n",
        "    @classmethod\n",
        "    def average_salary(cls):\n",
        "        if cls.no_of_employees == 0:\n",
        "            return 0\n",
        "        return cls.total_salary / cls.no_of_employees\n",
        "\n",
        "    def display_employee(self):\n",
        "        print(f\"Name: {self.name}, Family: {self.family}, Salary: ${self.salary}, Department: {self.department}\")\n",
        "\n",
        "\n",
        "class FulltimeEmployee(Employee):\n",
        "    def __init__(self, name, family, salary, department, benefits):\n",
        "        super().__init__(name, family, salary, department)\n",
        "        self.benefits = benefits  #\n",
        "\n",
        "    def display_employee(self):\n",
        "        super().display_employee()\n",
        "        print(f\"Benefits: {self.benefits}\")\n",
        "\n",
        "\n",
        "\n",
        "Emp1 = Employee(\"rakesh\", \"gaddam\", 89000, \"Software\")\n",
        "Emp2 = Employee(\"greesh\", \"baddam\", 90000, \"AI Engineer\")\n",
        "\n",
        "Emp1.display_employee()\n",
        "Emp2.display_employee()\n",
        "print(\"Average Salary:\", Employee.average_salary())\n"
      ],
      "metadata": {
        "colab": {
          "base_uri": "https://localhost:8080/"
        },
        "id": "hseD6OQG8li3",
        "outputId": "8e7d995d-27b1-43f9-83e0-35f66d8d75b0"
      },
      "execution_count": null,
      "outputs": [
        {
          "output_type": "stream",
          "name": "stdout",
          "text": [
            "Name: rakesh, Family: gaddam, Salary: $89000, Department: Software\n",
            "Name: greesh, Family: baddam, Salary: $90000, Department: AI Engineer\n",
            "Average Salary: 89500.0\n"
          ]
        }
      ]
    },
    {
      "cell_type": "markdown",
      "source": [
        "https://drive.google.com/drive/home"
      ],
      "metadata": {
        "id": "VAQSbJeWLK68"
      }
    },
    {
      "cell_type": "markdown",
      "source": [],
      "metadata": {
        "id": "PMEZZkstLRWp"
      }
    }
  ]
}
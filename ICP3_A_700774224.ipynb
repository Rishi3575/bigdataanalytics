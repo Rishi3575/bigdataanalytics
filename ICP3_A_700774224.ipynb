{
  "nbformat": 4,
  "nbformat_minor": 0,
  "metadata": {
    "colab": {
      "provenance": []
    },
    "kernelspec": {
      "name": "python3",
      "display_name": "Python 3"
    },
    "language_info": {
      "name": "python"
    }
  },
  "cells": [
    {
      "cell_type": "markdown",
      "source": [
        "a. Using NumPy create random vector of size 15 having only Integers in the range 1-20."
      ],
      "metadata": {
        "id": "1tRvinuL32id"
      }
    },
    {
      "cell_type": "markdown",
      "source": [
        "1. Reshape the array to 3 by 5\n",
        "2. Print array shape.\n",
        "3. Replace the max in each row by 0"
      ],
      "metadata": {
        "id": "7KthubSu36mK"
      }
    },
    {
      "cell_type": "code",
      "source": [
        "import numpy as np\n",
        "\n",
        "# Create random vector of size 15 with integers in range 1-100\n",
        "vector = np.random.randint(1, 100, 15)\n",
        "\n",
        "#  Reshape the array to 3 by 5\n",
        "reshaped_vec = vector.reshape(3, 5)\n",
        "\n",
        "#  Print array shape\n",
        "print(\"Shape of array:\", reshaped_vec.shape)\n",
        "\n",
        "#  Replace the max in each row by 0\n",
        "for i in range(reshaped_vec.shape[0]):\n",
        "    max_index = reshaped_vec[i].argmax()\n",
        "    reshaped_vec[i][max_index] = 0\n",
        "\n",
        "print(\"Array after replacing max in each row with 0:\\n\", reshaped_vec)"
      ],
      "metadata": {
        "colab": {
          "base_uri": "https://localhost:8080/"
        },
        "id": "fZHNCeID5H6b",
        "outputId": "0d067185-c484-484d-a356-52fb3b49532b"
      },
      "execution_count": 1,
      "outputs": [
        {
          "output_type": "stream",
          "name": "stdout",
          "text": [
            "Shape of array: (3, 5)\n",
            "Array after replacing max in each row with 0:\n",
            " [[ 3  0 64 83 13]\n",
            " [44  0  6 44 63]\n",
            " [29  0 13  2 12]]\n"
          ]
        }
      ]
    },
    {
      "cell_type": "markdown",
      "source": [
        "b. Create a 2-dimensional array of size 4 x 3 (composed of 4-byte integer elements), also print the shape, type and data\n",
        "type of the array."
      ],
      "metadata": {
        "id": "rJIYTS_P5SxN"
      }
    },
    {
      "cell_type": "code",
      "source": [
        "arr = np.array([[1, 2, 3], [4, 5, 6], [7, 8, 9], [10, 11, 12]], dtype=np.int32)\n",
        "\n",
        "print(\"Array:\\n\", arr)\n",
        "print(\"Shape:\", arr.shape)\n",
        "print(\"Type:\", type(arr))\n",
        "print(\"Data type:\", arr.dtype)"
      ],
      "metadata": {
        "colab": {
          "base_uri": "https://localhost:8080/"
        },
        "id": "ky01g3Dv5Wuo",
        "outputId": "ca56f924-0db1-4acf-d1c8-c9434f694ae0"
      },
      "execution_count": 2,
      "outputs": [
        {
          "output_type": "stream",
          "name": "stdout",
          "text": [
            "Array:\n",
            " [[ 1  2  3]\n",
            " [ 4  5  6]\n",
            " [ 7  8  9]\n",
            " [10 11 12]]\n",
            "Shape: (4, 3)\n",
            "Type: <class 'numpy.ndarray'>\n",
            "Data type: int32\n"
          ]
        }
      ]
    },
    {
      "cell_type": "markdown",
      "source": [
        "c. Write a program to compute the eigenvalues and right eigenvectors of a given square array given below:\n",
        "[[ 3 -2]\n",
        "[ 1 0]]"
      ],
      "metadata": {
        "id": "mM1spm7g5cin"
      }
    },
    {
      "cell_type": "code",
      "source": [
        "matrix = np.array([[3, -2], [1, 0]])\n",
        "\n",
        "eigenvalues, eigenvectors = np.linalg.eig(matrix)\n",
        "\n",
        "print(\"Eigenvalues:\", eigenvalues)\n",
        "print(\"Right Eigenvectors:\\n\", eigenvectors)"
      ],
      "metadata": {
        "colab": {
          "base_uri": "https://localhost:8080/"
        },
        "id": "BMQiVtTR5ghC",
        "outputId": "9bd0a9ed-4902-46cb-ff70-89f96a010cc9"
      },
      "execution_count": 3,
      "outputs": [
        {
          "output_type": "stream",
          "name": "stdout",
          "text": [
            "Eigenvalues: [2. 1.]\n",
            "Right Eigenvectors:\n",
            " [[0.89442719 0.70710678]\n",
            " [0.4472136  0.70710678]]\n"
          ]
        }
      ]
    },
    {
      "cell_type": "markdown",
      "source": [
        "d. Compute the sum of the diagonal element of a given array.\n",
        "[[0 1 2]\n",
        "[3 4 5]]"
      ],
      "metadata": {
        "id": "j3QxvgkC5mGd"
      }
    },
    {
      "cell_type": "code",
      "source": [
        "array = np.array([[0, 1, 2], [3, 4, 5]])\n",
        "diag_sum = np.trace(array)\n",
        "\n",
        "print(\"Sum of diagonal elements:\", diag_sum)"
      ],
      "metadata": {
        "colab": {
          "base_uri": "https://localhost:8080/"
        },
        "id": "8mASCzSG5qyG",
        "outputId": "1ab0566e-46a4-42df-fd36-2b4561cac8f3"
      },
      "execution_count": 4,
      "outputs": [
        {
          "output_type": "stream",
          "name": "stdout",
          "text": [
            "Sum of diagonal elements: 4\n"
          ]
        }
      ]
    },
    {
      "cell_type": "markdown",
      "source": [],
      "metadata": {
        "id": "Hn-sycKnLvYs"
      }
    },
    {
      "cell_type": "markdown",
      "source": [
        "e. Write a NumPy program to create a new shape to an array without changing its data.\n",
        "Reshape 3x2:\n",
        "[[1 2]\n",
        "[3 4]\n",
        "[5 6]]\n",
        "Reshape 2x3:\n",
        "[[1 2 3]\n",
        "[4 5 6]]"
      ],
      "metadata": {
        "id": "lDe9uT7e5vyQ"
      }
    },
    {
      "cell_type": "code",
      "source": [
        "original_array = np.array([[1, 2], [3, 4], [5, 6]])\n",
        "reshaped_array = original_array.reshape(2, 3)\n",
        "\n",
        "print(\"Reshaped Array:\\n\", reshaped_array)"
      ],
      "metadata": {
        "colab": {
          "base_uri": "https://localhost:8080/"
        },
        "id": "wlvvjxkM51R2",
        "outputId": "d17b6cf1-9091-436f-e7ac-b3de23ac57eb"
      },
      "execution_count": 5,
      "outputs": [
        {
          "output_type": "stream",
          "name": "stdout",
          "text": [
            "Reshaped Array:\n",
            " [[1 2 3]\n",
            " [4 5 6]]\n"
          ]
        }
      ]
    },
    {
      "cell_type": "markdown",
      "source": [
        "https://drive.google.com/drive/my-drive"
      ],
      "metadata": {
        "id": "hTgt5ORMLxSh"
      }
    }
  ]
}